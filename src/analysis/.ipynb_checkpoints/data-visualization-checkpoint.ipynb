{
 "cells": [
  {
   "cell_type": "code",
   "execution_count": 11,
   "id": "f70c4341",
   "metadata": {},
   "outputs": [],
   "source": [
    "import json \n",
    "import os\n",
    "import pandas as pd"
   ]
  },
  {
   "cell_type": "code",
   "execution_count": 13,
   "id": "4eab4cae",
   "metadata": {},
   "outputs": [],
   "source": [
    "def getPosition(filename: str) -> str:\n",
    "    return filename.split('.')[0].replace('position', 'P')"
   ]
  },
  {
   "cell_type": "code",
   "execution_count": 14,
   "id": "9407ef78",
   "metadata": {},
   "outputs": [],
   "source": [
    "# Create an empty list to store data from all JSON files\n",
    "data_list = []\n",
    "\n",
    "# Get the file path of the directory containing the JSON files\n",
    "json_dir = '../data/'\n",
    "\n",
    "# Iterate over each file in the directory\n",
    "for filename in os.listdir(json_dir):\n",
    "    if filename.endswith('.json'):\n",
    "        # Extract the position number from the filename\n",
    "        position = getPosition(filename)\n",
    "        \n",
    "        # Read the JSON file into a DataFrame\n",
    "        file_path = os.path.join(json_dir, filename)\n",
    "        \n",
    "        df = pd.read_json(file_path)\n",
    "        \n",
    "        # Add a new column 'position' with the value of the position number\n",
    "        df['position'] = position\n",
    "        \n",
    "        # Append the DataFrame to the list\n",
    "        data_list.append(df)\n",
    "\n",
    "# Concatenate all DataFrames in the list into a single DataFrame\n",
    "combined_df = pd.concat(data_list)\n",
    "\n",
    "# Reset the index of the combined DataFrame\n",
    "combined_df.reset_index(drop=True, inplace=True)"
   ]
  },
  {
   "cell_type": "code",
   "execution_count": 10,
   "id": "379c2bb0",
   "metadata": {},
   "outputs": [
    {
     "data": {
      "text/html": [
       "<div>\n",
       "<style scoped>\n",
       "    .dataframe tbody tr th:only-of-type {\n",
       "        vertical-align: middle;\n",
       "    }\n",
       "\n",
       "    .dataframe tbody tr th {\n",
       "        vertical-align: top;\n",
       "    }\n",
       "\n",
       "    .dataframe thead th {\n",
       "        text-align: right;\n",
       "    }\n",
       "</style>\n",
       "<table border=\"1\" class=\"dataframe\">\n",
       "  <thead>\n",
       "    <tr style=\"text-align: right;\">\n",
       "      <th></th>\n",
       "      <th>ssid</th>\n",
       "      <th>quality</th>\n",
       "      <th>signal</th>\n",
       "      <th>mac</th>\n",
       "      <th>position</th>\n",
       "    </tr>\n",
       "  </thead>\n",
       "  <tbody>\n",
       "    <tr>\n",
       "      <th>0</th>\n",
       "      <td>NOKIA-402343AC9C25-5</td>\n",
       "      <td>70/70</td>\n",
       "      <td>-21</td>\n",
       "      <td>40:23:43:AC:9C:32</td>\n",
       "      <td>P1</td>\n",
       "    </tr>\n",
       "    <tr>\n",
       "      <th>1</th>\n",
       "      <td>NOKIA-402343AC9C25-5</td>\n",
       "      <td>70/70</td>\n",
       "      <td>-25</td>\n",
       "      <td>40:23:43:AC:9C:32</td>\n",
       "      <td>P1</td>\n",
       "    </tr>\n",
       "    <tr>\n",
       "      <th>2</th>\n",
       "      <td>NOKIA-402343AC9C25-5</td>\n",
       "      <td>70/70</td>\n",
       "      <td>-26</td>\n",
       "      <td>40:23:43:AC:9C:32</td>\n",
       "      <td>P1</td>\n",
       "    </tr>\n",
       "    <tr>\n",
       "      <th>3</th>\n",
       "      <td>NOKIA-402343AC9C25-5</td>\n",
       "      <td>70/70</td>\n",
       "      <td>-25</td>\n",
       "      <td>40:23:43:AC:9C:32</td>\n",
       "      <td>P1</td>\n",
       "    </tr>\n",
       "    <tr>\n",
       "      <th>4</th>\n",
       "      <td>NOKIA-402343AC9C25-5</td>\n",
       "      <td>70/70</td>\n",
       "      <td>-21</td>\n",
       "      <td>40:23:43:AC:9C:32</td>\n",
       "      <td>P1</td>\n",
       "    </tr>\n",
       "  </tbody>\n",
       "</table>\n",
       "</div>"
      ],
      "text/plain": [
       "                   ssid quality  signal                mac position\n",
       "0  NOKIA-402343AC9C25-5   70/70     -21  40:23:43:AC:9C:32       P1\n",
       "1  NOKIA-402343AC9C25-5   70/70     -25  40:23:43:AC:9C:32       P1\n",
       "2  NOKIA-402343AC9C25-5   70/70     -26  40:23:43:AC:9C:32       P1\n",
       "3  NOKIA-402343AC9C25-5   70/70     -25  40:23:43:AC:9C:32       P1\n",
       "4  NOKIA-402343AC9C25-5   70/70     -21  40:23:43:AC:9C:32       P1"
      ]
     },
     "execution_count": 10,
     "metadata": {},
     "output_type": "execute_result"
    }
   ],
   "source": [
    "combined_df.head()"
   ]
  },
  {
   "cell_type": "code",
   "execution_count": null,
   "id": "57ea5e49",
   "metadata": {},
   "outputs": [],
   "source": []
  }
 ],
 "metadata": {
  "kernelspec": {
   "display_name": "Python 3 (ipykernel)",
   "language": "python",
   "name": "python3"
  },
  "language_info": {
   "codemirror_mode": {
    "name": "ipython",
    "version": 3
   },
   "file_extension": ".py",
   "mimetype": "text/x-python",
   "name": "python",
   "nbconvert_exporter": "python",
   "pygments_lexer": "ipython3",
   "version": "3.10.9"
  }
 },
 "nbformat": 4,
 "nbformat_minor": 5
}
